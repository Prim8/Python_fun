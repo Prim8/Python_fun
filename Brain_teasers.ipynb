{
 "metadata": {
  "name": "",
  "signature": "sha256:85cba9b92f1b11476adce3db26cf23d00ff8a21b22b0e82f3efb2ba7ab884eca"
 },
 "nbformat": 3,
 "nbformat_minor": 0,
 "worksheets": [
  {
   "cells": [
    {
     "cell_type": "markdown",
     "metadata": {},
     "source": [
      "# A collection of brain teasers problems\n",
      "> I wrote below a series of fun brain teasers functions."
     ]
    },
    {
     "cell_type": "markdown",
     "metadata": {},
     "source": [
      "## 1. Student grades"
     ]
    },
    {
     "cell_type": "markdown",
     "metadata": {},
     "source": [
      "> This program calculates the weighted average grade for a small class of three students based on the grades they earned on different assignments. It then returns the class average as well as the corresponding letter grade."
     ]
    },
    {
     "cell_type": "code",
     "collapsed": false,
     "input": [
      "# create a dictionary for each student with the grades they earned\n",
      "lloyd = {\n",
      "    \"name\": \"Lloyd\",\n",
      "    \"homework\": [90.0, 97.0, 75.0, 92.0],\n",
      "    \"quizzes\": [88.0, 40.0, 94.0],\n",
      "    \"tests\": [75.0, 90.0]\n",
      "}\n",
      "alice = {\n",
      "    \"name\": \"Alice\",\n",
      "    \"homework\": [100.0, 92.0, 98.0, 100.0],\n",
      "    \"quizzes\": [82.0, 83.0, 91.0],\n",
      "    \"tests\": [89.0, 97.0]\n",
      "}\n",
      "tyler = {\n",
      "    \"name\": \"Tyler\",\n",
      "    \"homework\": [0.0, 87.0, 75.0, 22.0],\n",
      "    \"quizzes\": [0.0, 75.0, 78.0],\n",
      "    \"tests\": [100.0, 100.0]\n",
      "}\n",
      "\n",
      "students = [lloyd, alice, tyler]\n",
      "\n",
      "# print it out!\n",
      "for student in students:\n",
      "    print student[\"name\"]\n",
      "    print \"homework: %s\" %student[\"homework\"]\n",
      "    print \"quizzes: %s\" %student[\"quizzes\"]\n",
      "    print \"tests: %s\" %student[\"tests\"]\n",
      "    print"
     ],
     "language": "python",
     "metadata": {},
     "outputs": [
      {
       "output_type": "stream",
       "stream": "stdout",
       "text": [
        "Lloyd\n",
        "homework: [90.0, 97.0, 75.0, 92.0]\n",
        "quizzes: [88.0, 40.0, 94.0]\n",
        "tests: [75.0, 90.0]\n",
        "\n",
        "Alice\n",
        "homework: [100.0, 92.0, 98.0, 100.0]\n",
        "quizzes: [82.0, 83.0, 91.0]\n",
        "tests: [89.0, 97.0]\n",
        "\n",
        "Tyler\n",
        "homework: [0.0, 87.0, 75.0, 22.0]\n",
        "quizzes: [0.0, 75.0, 78.0]\n",
        "tests: [100.0, 100.0]\n",
        "\n"
       ]
      }
     ],
     "prompt_number": 1
    },
    {
     "cell_type": "code",
     "collapsed": false,
     "input": [
      "# create the \"average function\" (instead of directly using the \"mean\" function)\n",
      "def average(numbers):\n",
      "    total = float(0)\n",
      "    for i in numbers:\n",
      "        total += i\n",
      "    return total/len(numbers)\n",
      "    \n",
      "# average the grades of each student using weighted averages\n",
      "def get_average(student):\n",
      "    homework = average(student['homework'])\n",
      "    quizzes = average(student['quizzes'])\n",
      "    tests = average(student['tests'])\n",
      "    return .1 * homework + .3 * quizzes + .6 * tests # weighted averages\n",
      "\n",
      "# assign a letter grade to the weighted averages\n",
      "def get_letter_grade(score):\n",
      "    if score >= 90.:\n",
      "         return 'A'\n",
      "    elif score >= 80.:\n",
      "         return 'B'\n",
      "    elif score >= 70.:\n",
      "         return 'C'\n",
      "    elif score >= 60.:\n",
      "         return 'D'\n",
      "    else:\n",
      "        return 'F'\n",
      "\n",
      "# print it out!\n",
      "for student in students:\n",
      "    print \"%s's average for the class is %.1f (i.e. a '%s' letter)\" \\\n",
      "    %(student[\"name\"], get_average(student), get_letter_grade(get_average(student)))\n",
      "    print"
     ],
     "language": "python",
     "metadata": {},
     "outputs": [
      {
       "output_type": "stream",
       "stream": "stdout",
       "text": [
        "Lloyd's average for the class is 80.5 (i.e. a 'B' letter)\n",
        "\n",
        "Alice's average for the class is 91.1 (i.e. a 'A' letter)\n",
        "\n",
        "Tyler's average for the class is 79.9 (i.e. a 'C' letter)\n",
        "\n"
       ]
      }
     ],
     "prompt_number": 2
    },
    {
     "cell_type": "code",
     "collapsed": false,
     "input": [
      "# finally get the average for all three students\n",
      "def get_class_average(students):\n",
      "    results = []\n",
      "    for student in students:\n",
      "        results.append(get_average(student))\n",
      "    return average(results)\n",
      "    \n",
      "print \"The class average is %.1f (i.e. a '%s' letter)\" \\\n",
      "%(get_class_average([lloyd, alice, tyler]), get_letter_grade(get_class_average([lloyd, alice, tyler])))"
     ],
     "language": "python",
     "metadata": {},
     "outputs": [
      {
       "output_type": "stream",
       "stream": "stdout",
       "text": [
        "The class average is 83.9 (i.e. a 'B' letter)\n"
       ]
      }
     ],
     "prompt_number": 3
    },
    {
     "cell_type": "markdown",
     "metadata": {},
     "source": [
      "> Different option: Calculate grades sum, average, variance, and standard deviation without using pre-determined functions"
     ]
    },
    {
     "cell_type": "code",
     "collapsed": false,
     "input": [
      "grades = [100, 100, 90, 40, 80, 100, 85, 70, 90, 65, 90, 85, 50.5]\n",
      "\n",
      "def print_grades(grades):\n",
      "    for grade in grades:\n",
      "        print grade\n",
      "\n",
      "def grades_sum(grades):\n",
      "    total = 0\n",
      "    for grade in grades: \n",
      "        total += grade\n",
      "    return total\n",
      "    \n",
      "def grades_average(grades):\n",
      "    sum_of_grades = grades_sum(grades)\n",
      "    average = sum_of_grades / float(len(grades))\n",
      "    return average\n",
      "\n",
      "def grades_variance(grades):\n",
      "    average = grades_average(grades)\n",
      "    variance = 0\n",
      "    for item in grades:\n",
      "        variance += (item - average)**2\n",
      "    return variance / len(grades)\n",
      "\n",
      "def grades_std_deviation(variance):\n",
      "    return variance**0.5\n",
      "\n",
      "variance = grades_variance(grades)    \n",
      "\n",
      "print print_grades(grades)\n",
      "print grades_sum(grades)\n",
      "print grades_average(grades)\n",
      "print grades_variance(grades)\n",
      "print grades_std_deviation(variance)\n"
     ],
     "language": "python",
     "metadata": {},
     "outputs": [
      {
       "output_type": "stream",
       "stream": "stdout",
       "text": [
        "100\n",
        "100\n",
        "90\n",
        "40\n",
        "80\n",
        "100\n",
        "85\n",
        "70\n",
        "90\n",
        "65\n",
        "90\n",
        "85\n",
        "50.5\n",
        "None\n",
        "1045.5\n",
        "80.4230769231\n",
        "334.071005917\n",
        "18.2776094147\n"
       ]
      }
     ],
     "prompt_number": 4
    },
    {
     "cell_type": "markdown",
     "metadata": {},
     "source": [
      "## 2. A day at the supermarket"
     ]
    },
    {
     "cell_type": "markdown",
     "metadata": {},
     "source": [
      "> Based on a small shopping list, this program returns the total cost of the groceries and updates the store inventory."
     ]
    },
    {
     "cell_type": "code",
     "collapsed": false,
     "input": [
      "# create a small shopping list\n",
      "\n",
      "shopping_list = [\"banana\", \"orange\", \"apple\"]\n",
      "\n",
      "stock = {\n",
      "    \"banana\": 6,\n",
      "    \"apple\": 0,\n",
      "    \"orange\": 32,\n",
      "    \"pear\": 15\n",
      "}\n",
      "    \n",
      "prices = {\n",
      "    \"banana\": 4,\n",
      "    \"apple\": 2,\n",
      "    \"orange\": 1.5,\n",
      "    \"pear\": 3\n",
      "}\n",
      "\n",
      "# check if the item is in stock first (i.e. larger than zero). \n",
      "# If it is in stock, add the cost of a the item to the bill. \n",
      "# Finally, decrement the stock of the item by one!\n",
      "def compute_bill(food):\n",
      "    total = 0\n",
      "    for key in food:\n",
      "        if stock[key] > 0:            \n",
      "            total += prices[key]\n",
      "            stock[key]=stock[key]-1\n",
      "    return total\n",
      "\n",
      "# example\n",
      "print \"The bill is $%.1f\" %compute_bill(shopping_list)\n",
      "print stock"
     ],
     "language": "python",
     "metadata": {},
     "outputs": [
      {
       "output_type": "stream",
       "stream": "stdout",
       "text": [
        "The bill is $5.5\n",
        "{'orange': 31, 'pear': 15, 'banana': 5, 'apple': 0}\n"
       ]
      }
     ],
     "prompt_number": 5
    },
    {
     "cell_type": "markdown",
     "metadata": {},
     "source": [
      "## 3. Restaurant bill, tax, and tip!"
     ]
    },
    {
     "cell_type": "markdown",
     "metadata": {},
     "source": [
      "> Ever wondered what to pay at the restaurant? Here's one way to find out!"
     ]
    },
    {
     "cell_type": "code",
     "collapsed": false,
     "input": [
      "def tax(bill):\n",
      "    \"\"\"Adds 8% tax to a restaurant bill.\"\"\"\n",
      "    bill *= 1.08\n",
      "    return bill\n",
      "\n",
      "def tip(bill):\n",
      "    \"\"\"Adds 15% tip to a restaurant bill.\"\"\"\n",
      "    bill *= 1.15\n",
      "    return bill\n",
      "\n",
      "def meal_cost(bill):\n",
      "    print \"Meal: $%.2f \\nCost with tax: $%.2f \\nCost with tip: $%.2f\"\\\n",
      "    %(bill, tax(bill), tip(bill))\n",
      "\n",
      "\n",
      "bill = 100\n",
      "print meal_cost(bill)"
     ],
     "language": "python",
     "metadata": {},
     "outputs": [
      {
       "output_type": "stream",
       "stream": "stdout",
       "text": [
        "Meal: $100.00 \n",
        "Cost with tax: $108.00 \n",
        "Cost with tip: $115.00\n",
        "None\n"
       ]
      }
     ],
     "prompt_number": 6
    },
    {
     "cell_type": "markdown",
     "metadata": {},
     "source": [
      "## 4. Taking a vacation"
     ]
    },
    {
     "cell_type": "markdown",
     "metadata": {},
     "source": [
      "> Here's how to find out the cost of a taking a vacation based on the cost of hotel nights, rental car, destination, and some spending money."
     ]
    },
    {
     "cell_type": "code",
     "collapsed": false,
     "input": [
      "# cost of hotel nights (assuming that one night costs $140.00\n",
      "def hotel_cost(nights):\n",
      "    return 140.00 * nights\n",
      "    \n",
      "# cost of airfare depending on destination\n",
      "def plane_ride_cost(city):\n",
      "    if city == \"Charlotte\":\n",
      "        return 183.00\n",
      "    elif city == \"Tampa\":\n",
      "        return 220.00\n",
      "    elif city == \"Pittsburgh\":\n",
      "        return 222.00\n",
      "    elif city == \"Los Angeles\":\n",
      "        return 475.00\n",
      "        \n",
      "# cost of rental car\n",
      "def rental_car_cost(days):\n",
      "    if days < 3:\n",
      "        return days * 40.00\n",
      "    elif days >= 3 and days < 7:\n",
      "        return (days * 40.00) - 20.00\n",
      "    elif days >= 7:\n",
      "        return (days * 40.00) - 50.00\n",
      "        \n",
      "# putting is all together adding some spending money\n",
      "def trip_cost(city, days, spending_money):\n",
      "    return rental_car_cost(days) + hotel_cost(days) + plane_ride_cost(city) + spending_money\n",
      "    \n",
      "# example for a trip to Los Angeles for five days with $600.00 speding money\n",
      "print \"The cost of a trip to Los Angeles is estimated to be $%.2f\" %trip_cost(\"Los Angeles\", 5, 600)"
     ],
     "language": "python",
     "metadata": {},
     "outputs": [
      {
       "output_type": "stream",
       "stream": "stdout",
       "text": [
        "The cost of a trip to Los Angeles is estimated to be $1955.00\n"
       ]
      }
     ],
     "prompt_number": 7
    },
    {
     "cell_type": "markdown",
     "metadata": {},
     "source": [
      "## 5. Pig Latin game"
     ]
    },
    {
     "cell_type": "markdown",
     "metadata": {},
     "source": [
      "> Pig Lating is a language game where you move the first letter of the word to the end and add \"ay.\" So \"Python\" becomes \"ythonpay.\" Here are the steps to write the Pig Latin translator:\n",
      "\n",
      "1. Ask the user to input a word in English.\n",
      "2. Make sure the user entered a valid word.\n",
      "3. Convert the word from English to Pig Latin.\n",
      "4. Display the translation result."
     ]
    },
    {
     "cell_type": "code",
     "collapsed": false,
     "input": [
      "pyg = 'ay'\n",
      "\n",
      "# Ask the user to input a word and make sure the user entered a valid word\n",
      "original = raw_input('Enter a word:')\n",
      "\n",
      "if len(original) > 0 and original.isalpha(): # is alpha returns true if all characters in the string are alphbetic\n",
      "    word = original.lower()\n",
      "    first = word[0]\n",
      "    print original\n",
      "else:\n",
      "    print 'empty'\n",
      "new_word = word + first + pyg\n",
      "print new_word\n",
      "new_word = new_word[1:len(new_word)]\n",
      "print new_word"
     ],
     "language": "python",
     "metadata": {},
     "outputs": [
      {
       "name": "stdout",
       "output_type": "stream",
       "stream": "stdout",
       "text": [
        "Enter a word:brainteaser\n"
       ]
      },
      {
       "output_type": "stream",
       "stream": "stdout",
       "text": [
        "brainteaser\n",
        "brainteaserbay\n",
        "rainteaserbay\n"
       ]
      }
     ],
     "prompt_number": 8
    },
    {
     "cell_type": "markdown",
     "metadata": {},
     "source": [
      "## 6. Finding a Prime number"
     ]
    },
    {
     "cell_type": "code",
     "collapsed": false,
     "input": [
      "def is_prime(n):\n",
      "    for x in range(2, n/2):\n",
      "        if n % x == 0:\n",
      "            return False\n",
      "        else:\n",
      "            return True\n",
      "\n",
      "print is_prime(3)\n",
      "print is_prime(7)\n",
      "print is_prime(0)\n",
      "print is_prime(99)"
     ],
     "language": "python",
     "metadata": {},
     "outputs": [
      {
       "output_type": "stream",
       "stream": "stdout",
       "text": [
        "None\n",
        "True\n",
        "None\n",
        "True\n"
       ]
      }
     ],
     "prompt_number": 9
    },
    {
     "cell_type": "markdown",
     "metadata": {},
     "source": [
      "## 7. Secret message"
     ]
    },
    {
     "cell_type": "code",
     "collapsed": false,
     "input": [
      "garbled = \"!XeXgXaXsXsXeXmX XtXeXrXcXeXsX XeXhXtX XmXaX XI\"\n",
      "\n",
      "def message(garbled):\n",
      "    reverse = garbled [::-1]\n",
      "    message = reverse [::2]\n",
      "    return message\n",
      "    \n",
      "garbled1 = \"IXXX aXXmX aXXXnXoXXXXXtXhXeXXXXrX sXXXXeXcXXXrXeXt mXXeXsXXXsXaXXXXXXgXeX!XX\"\n",
      "\n",
      "def message1(garbled):\n",
      "    non_X = filter(lambda x: x != \"X\", garbled1)\n",
      "    return non_X\n",
      "\n",
      "print message(garbled)\n",
      "print message1(garbled1)\n",
      "#OR message = filter(lambda x: x != \"X\", garbled)"
     ],
     "language": "python",
     "metadata": {},
     "outputs": [
      {
       "output_type": "stream",
       "stream": "stdout",
       "text": [
        "I am the secret message!\n",
        "I am another secret message!\n"
       ]
      }
     ],
     "prompt_number": 10
    },
    {
     "cell_type": "markdown",
     "metadata": {},
     "source": [
      "## 8. Stange count of numbers"
     ]
    },
    {
     "cell_type": "markdown",
     "metadata": {},
     "source": [
      "Write a program that counts the numbers from 3 to 117. \n",
      "But for multiples of three add 3 instead of 1 and \n",
      "for the multiples of five add 5 instead of 1. \n",
      "For numbers which are multiples of both three and five add 15 instead of 1. \n",
      "Ex: If we are looking at numbers 5 to 15 (inclusive), the program would output 39"
     ]
    },
    {
     "cell_type": "code",
     "collapsed": false,
     "input": [
      "def count_numbers(my_list):\n",
      "    new_list = []\n",
      "\n",
      "    # replace mutiples of 3 and 5 by 15\n",
      "    for number in my_list:\n",
      "        if number%3 == 0 and number%5 == 0:\n",
      "            number = 15\n",
      "\n",
      "    # replace multiples of 3 by 3\n",
      "        elif number%5 == 0:\n",
      "            number = 5\n",
      "\n",
      "    # replace mutiples of 5 by 5\n",
      "        elif number%3 == 0:\n",
      "            number = 3\n",
      "        \n",
      "    # replace everything else by 1 and append the final results\n",
      "        else:\n",
      "            number = 1\n",
      "        new_list.append(number)\n",
      "    return sum(new_list)\n",
      "\n",
      "    \n",
      "\n",
      "print count_numbers(range(3, 118))\n",
      "print count_numbers(range(5, 16))"
     ],
     "language": "python",
     "metadata": {},
     "outputs": [
      {
       "output_type": "stream",
       "stream": "stdout",
       "text": [
        "341\n",
        "39\n"
       ]
      }
     ],
     "prompt_number": 11
    }
   ],
   "metadata": {}
  }
 ]
}